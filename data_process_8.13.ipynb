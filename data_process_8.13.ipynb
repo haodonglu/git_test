{
 "cells": [
  {
   "cell_type": "code",
   "execution_count": 115,
   "metadata": {},
   "outputs": [],
   "source": [
    "from lxml import objectify\n",
    "import pandas as pd\n",
    "%matplotlib inline\n",
    "import numpy as np\n",
    "import seaborn as sns\n",
    "import matplotlib.pyplot as plt\n",
    "import copy"
   ]
  },
  {
   "cell_type": "code",
   "execution_count": 116,
   "metadata": {},
   "outputs": [
    {
     "name": "stdout",
     "output_type": "stream",
     "text": [
      "   id      type                        time  value\n",
      "0   1  02#主控室湿度  2019-07-17 16:20:54:378000  41.8%\n",
      "1   2  02#主控室湿度  2019-07-17 16:09:38:398000  42.5%\n",
      "2   3  02#主控室湿度  2019-07-17 15:59:32:524000  43.1%\n",
      "3   4  02#主控室湿度  2019-07-17 15:49:21:611000  43.7%\n",
      "4   5  02#主控室湿度  2019-07-17 15:39:10:714000  44.4%\n"
     ]
    }
   ],
   "source": [
    "# 温湿度数据处理\n",
    "xml = objectify.parse('./humidity.xml')\n",
    "root = xml.getroot()\n",
    "\n",
    "data=[]\n",
    "for i in range(len(root.getchildren())):\n",
    "    x = root.getchildren()[i].getchildren()\n",
    "    #print(x)\n",
    "    data.append(x)\n",
    "data = np.reshape(data,[-1,4])\n",
    "#print(data.shape)\n",
    "df = pd.DataFrame(data)\n",
    "df.columns = ['id', 'type', 'time','value']\n",
    "df['id'] = df.id.astype(int)\n",
    "df['type'] = df.type.astype(str)\n",
    "df[\"time\"] = df.time.astype(str)\n",
    "df['value'] = df.value.astype(str)\n",
    "print(df.head())"
   ]
  },
  {
   "cell_type": "code",
   "execution_count": 117,
   "metadata": {},
   "outputs": [],
   "source": [
    "data = df.copy()"
   ]
  },
  {
   "cell_type": "code",
   "execution_count": 118,
   "metadata": {},
   "outputs": [],
   "source": [
    "data['value'] = data['value'].apply(lambda x: x[:-1]) # 去掉温度的单位\n",
    "data['value'] = data['value'].astype(float)\n",
    "\n",
    "data['time'] = data['time'].apply(lambda x: x[:-10]) # 精确到分\n",
    "\n",
    "data.drop(columns='id', inplace=True)"
   ]
  },
  {
   "cell_type": "code",
   "execution_count": 120,
   "metadata": {},
   "outputs": [
    {
     "name": "stdout",
     "output_type": "stream",
     "text": [
      "       type              time  value\n",
      "0  02#主控室湿度  2019-07-17 16:20   41.8\n",
      "1  02#主控室湿度  2019-07-17 16:09   42.5\n",
      "2  02#主控室湿度  2019-07-17 15:59   43.1\n",
      "3  02#主控室湿度  2019-07-17 15:49   43.7\n",
      "4  02#主控室湿度  2019-07-17 15:39   44.4\n",
      "data shape: (4990, 3)\n",
      "data types: ['02#主控室湿度' '03#主控室湿度' '04#高压室湿度' '05#高压室湿度' '06#27.5KV室湿度' '07#10KV室湿度']\n"
     ]
    }
   ],
   "source": [
    "print(data.head())\n",
    "print('data shape:', data.shape)\n",
    "print('data types:', data['type'].unique())"
   ]
  },
  {
   "cell_type": "code",
   "execution_count": 121,
   "metadata": {},
   "outputs": [],
   "source": [
    "def abstract(data, column):\n",
    "    abs_data = data.loc[data['type']==column]\n",
    "    abs_data[column] = abs_data['value']\n",
    "    abs_data.drop(columns=['type', 'value'], inplace=True)\n",
    "    abs_data.set_index('time', inplace=True)\n",
    "    return abs_data"
   ]
  },
  {
   "cell_type": "code",
   "execution_count": 122,
   "metadata": {},
   "outputs": [
    {
     "name": "stderr",
     "output_type": "stream",
     "text": [
      "/root/anaconda3/lib/python3.7/site-packages/ipykernel_launcher.py:3: SettingWithCopyWarning: \n",
      "A value is trying to be set on a copy of a slice from a DataFrame.\n",
      "Try using .loc[row_indexer,col_indexer] = value instead\n",
      "\n",
      "See the caveats in the documentation: http://pandas.pydata.org/pandas-docs/stable/indexing.html#indexing-view-versus-copy\n",
      "  This is separate from the ipykernel package so we can avoid doing imports until\n",
      "/root/anaconda3/lib/python3.7/site-packages/pandas/core/frame.py:3940: SettingWithCopyWarning: \n",
      "A value is trying to be set on a copy of a slice from a DataFrame\n",
      "\n",
      "See the caveats in the documentation: http://pandas.pydata.org/pandas-docs/stable/indexing.html#indexing-view-versus-copy\n",
      "  errors=errors)\n"
     ]
    }
   ],
   "source": [
    "#data_02 = data.loc[data['type']=='02#主控室湿度']\n",
    "data_02 = abstract(data, '02#主控室湿度')\n",
    "data_03 = abstract(data, '03#主控室湿度')\n",
    "data_04 = abstract(data, '04#高压室湿度')\n",
    "data_05 = abstract(data, '05#高压室湿度')\n",
    "data_06 = abstract(data, '06#27.5KV室湿度')\n",
    "data_07 = abstract(data, '07#10KV室湿度')"
   ]
  },
  {
   "cell_type": "code",
   "execution_count": 123,
   "metadata": {},
   "outputs": [
    {
     "name": "stdout",
     "output_type": "stream",
     "text": [
      "                  02#主控室湿度\n",
      "time                      \n",
      "2019-07-17 16:20      41.8\n",
      "2019-07-17 16:09      42.5\n",
      "2019-07-17 15:59      43.1\n",
      "2019-07-17 15:49      43.7\n",
      "2019-07-17 15:39      44.4\n",
      "                  05#高压室湿度\n",
      "time                      \n",
      "2019-07-17 16:21      50.9\n",
      "2019-07-17 16:10      51.6\n",
      "2019-07-17 15:59      52.0\n",
      "2019-07-17 15:48      52.1\n",
      "2019-07-17 15:38      52.2\n",
      "                  06#27.5KV室湿度\n",
      "time                          \n",
      "2019-07-17 16:21          48.3\n",
      "2019-07-17 16:09          49.3\n",
      "2019-07-17 15:58          49.5\n",
      "2019-07-17 15:48          49.9\n",
      "2019-07-17 15:38          49.9\n"
     ]
    }
   ],
   "source": [
    "print(data_02.head())\n",
    "print(data_05.head())\n",
    "print(data_06.head())"
   ]
  },
  {
   "cell_type": "code",
   "execution_count": 124,
   "metadata": {},
   "outputs": [
    {
     "name": "stdout",
     "output_type": "stream",
     "text": [
      "02#主控室湿度 length: 946\n",
      "03#主控室湿度 length: 949\n",
      "04#高压室湿度 length: 812\n",
      "05#高压室湿度 length: 683\n",
      "06#27.5KV室湿度 length: 701\n",
      "07#10KV室湿度 length: 899\n"
     ]
    }
   ],
   "source": [
    "# 显示每个type的数据长度\n",
    "for i in data['type'].unique():\n",
    "    print(i + ' length: ' + str((data['type']==i).sum()))"
   ]
  },
  {
   "cell_type": "code",
   "execution_count": 128,
   "metadata": {},
   "outputs": [],
   "source": [
    "re_data_02 = data_02.reset_index()\n",
    "re_data_03 = data_03.reset_index()\n",
    "re_data_04 = data_04.reset_index()\n",
    "re_data_05 = data_05.reset_index()\n",
    "re_data_06 = data_06.reset_index()\n",
    "re_data_07 = data_07.reset_index()"
   ]
  },
  {
   "cell_type": "code",
   "execution_count": 129,
   "metadata": {},
   "outputs": [
    {
     "data": {
      "text/html": [
       "<div>\n",
       "<style scoped>\n",
       "    .dataframe tbody tr th:only-of-type {\n",
       "        vertical-align: middle;\n",
       "    }\n",
       "\n",
       "    .dataframe tbody tr th {\n",
       "        vertical-align: top;\n",
       "    }\n",
       "\n",
       "    .dataframe thead th {\n",
       "        text-align: right;\n",
       "    }\n",
       "</style>\n",
       "<table border=\"1\" class=\"dataframe\">\n",
       "  <thead>\n",
       "    <tr style=\"text-align: right;\">\n",
       "      <th></th>\n",
       "      <th>time</th>\n",
       "      <th>02#主控室湿度</th>\n",
       "      <th>time</th>\n",
       "      <th>03#主控室湿度</th>\n",
       "      <th>time</th>\n",
       "      <th>04#高压室湿度</th>\n",
       "      <th>time</th>\n",
       "      <th>05#高压室湿度</th>\n",
       "      <th>time</th>\n",
       "      <th>06#27.5KV室湿度</th>\n",
       "      <th>time</th>\n",
       "      <th>07#10KV室湿度</th>\n",
       "    </tr>\n",
       "  </thead>\n",
       "  <tbody>\n",
       "    <tr>\n",
       "      <th>0</th>\n",
       "      <td>2019-07-17 16:20</td>\n",
       "      <td>41.8</td>\n",
       "      <td>2019-07-17 16:20</td>\n",
       "      <td>45.1</td>\n",
       "      <td>2019-07-17 16:20</td>\n",
       "      <td>54.9</td>\n",
       "      <td>2019-07-17 16:21</td>\n",
       "      <td>50.9</td>\n",
       "      <td>2019-07-17 16:21</td>\n",
       "      <td>48.3</td>\n",
       "      <td>2019-07-17 16:21</td>\n",
       "      <td>53.9</td>\n",
       "    </tr>\n",
       "    <tr>\n",
       "      <th>1</th>\n",
       "      <td>2019-07-17 16:09</td>\n",
       "      <td>42.5</td>\n",
       "      <td>2019-07-17 16:10</td>\n",
       "      <td>45.2</td>\n",
       "      <td>2019-07-17 16:10</td>\n",
       "      <td>55.6</td>\n",
       "      <td>2019-07-17 16:10</td>\n",
       "      <td>51.6</td>\n",
       "      <td>2019-07-17 16:09</td>\n",
       "      <td>49.3</td>\n",
       "      <td>2019-07-17 16:11</td>\n",
       "      <td>55.2</td>\n",
       "    </tr>\n",
       "    <tr>\n",
       "      <th>2</th>\n",
       "      <td>2019-07-17 15:59</td>\n",
       "      <td>43.1</td>\n",
       "      <td>2019-07-17 16:00</td>\n",
       "      <td>45.6</td>\n",
       "      <td>2019-07-17 15:59</td>\n",
       "      <td>55.9</td>\n",
       "      <td>2019-07-17 15:59</td>\n",
       "      <td>52.0</td>\n",
       "      <td>2019-07-17 15:58</td>\n",
       "      <td>49.5</td>\n",
       "      <td>2019-07-17 16:01</td>\n",
       "      <td>55.7</td>\n",
       "    </tr>\n",
       "    <tr>\n",
       "      <th>3</th>\n",
       "      <td>2019-07-17 15:49</td>\n",
       "      <td>43.7</td>\n",
       "      <td>2019-07-17 15:49</td>\n",
       "      <td>46.3</td>\n",
       "      <td>2019-07-17 15:49</td>\n",
       "      <td>55.9</td>\n",
       "      <td>2019-07-17 15:48</td>\n",
       "      <td>52.1</td>\n",
       "      <td>2019-07-17 15:48</td>\n",
       "      <td>49.9</td>\n",
       "      <td>2019-07-17 15:51</td>\n",
       "      <td>55.4</td>\n",
       "    </tr>\n",
       "    <tr>\n",
       "      <th>4</th>\n",
       "      <td>2019-07-17 15:39</td>\n",
       "      <td>44.4</td>\n",
       "      <td>2019-07-17 15:39</td>\n",
       "      <td>47.0</td>\n",
       "      <td>2019-07-17 15:39</td>\n",
       "      <td>56.7</td>\n",
       "      <td>2019-07-17 15:38</td>\n",
       "      <td>52.2</td>\n",
       "      <td>2019-07-17 15:38</td>\n",
       "      <td>49.9</td>\n",
       "      <td>2019-07-17 15:40</td>\n",
       "      <td>55.9</td>\n",
       "    </tr>\n",
       "  </tbody>\n",
       "</table>\n",
       "</div>"
      ],
      "text/plain": [
       "               time  02#主控室湿度              time  03#主控室湿度              time  \\\n",
       "0  2019-07-17 16:20      41.8  2019-07-17 16:20      45.1  2019-07-17 16:20   \n",
       "1  2019-07-17 16:09      42.5  2019-07-17 16:10      45.2  2019-07-17 16:10   \n",
       "2  2019-07-17 15:59      43.1  2019-07-17 16:00      45.6  2019-07-17 15:59   \n",
       "3  2019-07-17 15:49      43.7  2019-07-17 15:49      46.3  2019-07-17 15:49   \n",
       "4  2019-07-17 15:39      44.4  2019-07-17 15:39      47.0  2019-07-17 15:39   \n",
       "\n",
       "   04#高压室湿度              time  05#高压室湿度              time  06#27.5KV室湿度  \\\n",
       "0      54.9  2019-07-17 16:21      50.9  2019-07-17 16:21          48.3   \n",
       "1      55.6  2019-07-17 16:10      51.6  2019-07-17 16:09          49.3   \n",
       "2      55.9  2019-07-17 15:59      52.0  2019-07-17 15:58          49.5   \n",
       "3      55.9  2019-07-17 15:48      52.1  2019-07-17 15:48          49.9   \n",
       "4      56.7  2019-07-17 15:38      52.2  2019-07-17 15:38          49.9   \n",
       "\n",
       "               time  07#10KV室湿度  \n",
       "0  2019-07-17 16:21        53.9  \n",
       "1  2019-07-17 16:11        55.2  \n",
       "2  2019-07-17 16:01        55.7  \n",
       "3  2019-07-17 15:51        55.4  \n",
       "4  2019-07-17 15:40        55.9  "
      ]
     },
     "execution_count": 129,
     "metadata": {},
     "output_type": "execute_result"
    }
   ],
   "source": [
    "con = pd.concat([re_data_02, re_data_03, re_data_04, re_data_05, re_data_06, re_data_07], axis=1)\n",
    "con.head()"
   ]
  },
  {
   "cell_type": "code",
   "execution_count": 130,
   "metadata": {},
   "outputs": [],
   "source": [
    "con.to_csv('concat_data.csv', index=True)"
   ]
  },
  {
   "cell_type": "code",
   "execution_count": null,
   "metadata": {},
   "outputs": [],
   "source": []
  }
 ],
 "metadata": {
  "kernelspec": {
   "display_name": "Python 3",
   "language": "python",
   "name": "python3"
  },
  "language_info": {
   "codemirror_mode": {
    "name": "ipython",
    "version": 3
   },
   "file_extension": ".py",
   "mimetype": "text/x-python",
   "name": "python",
   "nbconvert_exporter": "python",
   "pygments_lexer": "ipython3",
   "version": "3.7.3"
  }
 },
 "nbformat": 4,
 "nbformat_minor": 2
}
